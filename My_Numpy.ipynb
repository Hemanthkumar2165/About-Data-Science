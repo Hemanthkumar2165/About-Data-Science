{
  "nbformat": 4,
  "nbformat_minor": 0,
  "metadata": {
    "colab": {
      "provenance": [],
      "authorship_tag": "ABX9TyMN+OlVKErDymNr81/SZFYK",
      "include_colab_link": true
    },
    "kernelspec": {
      "name": "python3",
      "display_name": "Python 3"
    },
    "language_info": {
      "name": "python"
    }
  },
  "cells": [
    {
      "cell_type": "markdown",
      "metadata": {
        "id": "view-in-github",
        "colab_type": "text"
      },
      "source": [
        "<a href=\"https://colab.research.google.com/github/Hemanthkumar2165/About-Data-Science/blob/main/My_Numpy.ipynb\" target=\"_parent\"><img src=\"https://colab.research.google.com/assets/colab-badge.svg\" alt=\"Open In Colab\"/></a>"
      ]
    },
    {
      "cell_type": "code",
      "execution_count": 1,
      "metadata": {
        "id": "29PRoCh62mCw"
      },
      "outputs": [],
      "source": [
        "import numpy as np"
      ]
    },
    {
      "cell_type": "code",
      "source": [
        "#help(np.array)"
      ],
      "metadata": {
        "id": "M_EALWTG2vxJ"
      },
      "execution_count": 2,
      "outputs": []
    },
    {
      "cell_type": "code",
      "source": [
        "#array declaration\n",
        "a = np.array([1,2,3,4,5])     #1D array\n",
        "b = np.array([[1,2],[3,4]])   #2D array\n",
        "c = np.array([1,2,3],\"complex\") #we can change datatype also like this"
      ],
      "metadata": {
        "id": "nOU3IGeC22yY"
      },
      "execution_count": 3,
      "outputs": []
    },
    {
      "cell_type": "code",
      "source": [
        "#arange func -> arange(start,stop,skip,dtype)\n",
        "d = np.arange(1,6)"
      ],
      "metadata": {
        "id": "5F-FuIlD242f"
      },
      "execution_count": 4,
      "outputs": []
    },
    {
      "cell_type": "code",
      "source": [
        "#zeros -> zeros(size , dtype=\" \")\n",
        "e = np.zeros(6, dtype = \"int\")  #1D\n",
        "f = np.zeros([2,3])   #2D"
      ],
      "metadata": {
        "id": "AdkOLBds27sy"
      },
      "execution_count": 5,
      "outputs": []
    },
    {
      "cell_type": "code",
      "source": [
        "#empty return new array with random values -> empty(num)\n",
        "g = np.empty([2,3],dtype = \"int\")"
      ],
      "metadata": {
        "id": "tl6IPZUG2951"
      },
      "execution_count": 6,
      "outputs": []
    },
    {
      "cell_type": "code",
      "source": [
        "#linspace returns evenly spaced numbers over a interval -> linspace(start,stop,val)\n",
        "i = np.linspace(1,8,num = 5)"
      ],
      "metadata": {
        "id": "Z4pAOA-w3AOW"
      },
      "execution_count": 7,
      "outputs": []
    },
    {
      "cell_type": "code",
      "source": [
        "#identity func returns identy array is a square array with ones on the main diagonal\n",
        "j = np.identity(5)"
      ],
      "metadata": {
        "id": "noSGmiP63DrO"
      },
      "execution_count": 8,
      "outputs": []
    },
    {
      "cell_type": "code",
      "source": [
        "#eye func returns 2D array with 1's as diagonal and 0's else. -> eye(rows,cols)\n",
        "h = np.eye(3,4)"
      ],
      "metadata": {
        "id": "GBzZ7iSe3FiD"
      },
      "execution_count": 9,
      "outputs": []
    },
    {
      "cell_type": "code",
      "source": [
        "#dimensions -> a.ndim gives no of dimensions\n",
        "k = np.array([[1,2,9],[1,3,4]])\n",
        "#k.ndim"
      ],
      "metadata": {
        "id": "z6oS2AEf3H40"
      },
      "execution_count": 10,
      "outputs": []
    },
    {
      "cell_type": "code",
      "source": [
        "#shape -> a.shape gives no.of rows and columns\n",
        "k.shape"
      ],
      "metadata": {
        "colab": {
          "base_uri": "https://localhost:8080/"
        },
        "id": "8cnjzQXG3Jwk",
        "outputId": "a5890dcf-83f1-4da6-9d2e-63cb968ae798"
      },
      "execution_count": 11,
      "outputs": [
        {
          "output_type": "execute_result",
          "data": {
            "text/plain": [
              "(2, 3)"
            ]
          },
          "metadata": {},
          "execution_count": 11
        }
      ]
    },
    {
      "cell_type": "code",
      "source": [
        "#Datatype -> a.dtype\n",
        "k.dtype"
      ],
      "metadata": {
        "colab": {
          "base_uri": "https://localhost:8080/"
        },
        "id": "IdhDZiCh3LsD",
        "outputId": "4ac548dc-70a9-4674-a2d3-2af6d0a3abc2"
      },
      "execution_count": 12,
      "outputs": [
        {
          "output_type": "execute_result",
          "data": {
            "text/plain": [
              "dtype('int64')"
            ]
          },
          "metadata": {},
          "execution_count": 12
        }
      ]
    },
    {
      "cell_type": "code",
      "source": [
        "#itemsize -> total no.of items\n",
        "k.itemsize"
      ],
      "metadata": {
        "colab": {
          "base_uri": "https://localhost:8080/"
        },
        "id": "CMf4_moJ3Nz2",
        "outputId": "1a686e65-3286-43e0-8301-fc1a9e79834a"
      },
      "execution_count": 13,
      "outputs": [
        {
          "output_type": "execute_result",
          "data": {
            "text/plain": [
              "8"
            ]
          },
          "metadata": {},
          "execution_count": 13
        }
      ]
    },
    {
      "cell_type": "code",
      "source": [
        "#slicing -> a[start,stop,step]"
      ],
      "metadata": {
        "id": "O3jeMLLE3Pti"
      },
      "execution_count": 14,
      "outputs": []
    },
    {
      "cell_type": "code",
      "source": [
        "#reshape ->  np.reshape(a,(rows,cols),order= \"c or f\") .. c for row order, f for col order\n",
        "a = np.arange(10)\n",
        "z = np.reshape(a,(5,2))\n",
        "c = np.reshape(a,(5,2),order=\"f\")"
      ],
      "metadata": {
        "id": "TsF3oOca3Rv5"
      },
      "execution_count": 15,
      "outputs": []
    },
    {
      "cell_type": "code",
      "source": [
        "#resize  ->  np.reshape(a,(rows,cols))  returns new arary with specified shape.\n",
        "x = np.arange(5)\n",
        "y = np.resize(x,(2,3))"
      ],
      "metadata": {
        "id": "YjBOCmxL3ULE"
      },
      "execution_count": 16,
      "outputs": []
    },
    {
      "cell_type": "code",
      "source": [
        "#flatten func return a copy of array collapsed into 1D -> a.flatten()  .. we can use order also\n",
        "b = np.array([[1,2],[3,4]])\n",
        "b.flatten()"
      ],
      "metadata": {
        "colab": {
          "base_uri": "https://localhost:8080/"
        },
        "id": "m3Re00TU3Wbb",
        "outputId": "d10aeac6-7ab6-4d54-c7c1-5d9eb1cecdb6"
      },
      "execution_count": 17,
      "outputs": [
        {
          "output_type": "execute_result",
          "data": {
            "text/plain": [
              "array([1, 2, 3, 4])"
            ]
          },
          "metadata": {},
          "execution_count": 17
        }
      ]
    },
    {
      "cell_type": "code",
      "source": [
        "#ravel func returns a contiguous flatten array -> np.ravel(a)\n",
        "np.ravel(b)"
      ],
      "metadata": {
        "colab": {
          "base_uri": "https://localhost:8080/"
        },
        "id": "Nmaulhmb3YLZ",
        "outputId": "a6138e4d-d8ab-4432-a515-e4d503d5c3ad"
      },
      "execution_count": 18,
      "outputs": [
        {
          "output_type": "execute_result",
          "data": {
            "text/plain": [
              "array([1, 2, 3, 4])"
            ]
          },
          "metadata": {},
          "execution_count": 18
        }
      ]
    },
    {
      "cell_type": "code",
      "source": [
        "#transpose -> np.transpose(a)               #a.reshape(2,3,4) ->2arrays,3rows and 4cols\n",
        "b=np.arange(1,25).reshape(2,3,4)\n",
        "#print(np.transpose(b))\n",
        "np.transpose(b).shape"
      ],
      "metadata": {
        "colab": {
          "base_uri": "https://localhost:8080/"
        },
        "id": "_Ez-QtKM3Z8g",
        "outputId": "abd8f90e-06be-4717-c8cf-b96f56842c7b"
      },
      "execution_count": 19,
      "outputs": [
        {
          "output_type": "execute_result",
          "data": {
            "text/plain": [
              "(4, 3, 2)"
            ]
          },
          "metadata": {},
          "execution_count": 19
        }
      ]
    },
    {
      "cell_type": "code",
      "source": [
        "#concatenate arrays\n",
        "a = np.arange(4)\n",
        "b = np.arange(3,6)\n",
        "d = np.concatenate((a,b))"
      ],
      "metadata": {
        "id": "Gm4kzxap3bia"
      },
      "execution_count": 20,
      "outputs": []
    },
    {
      "cell_type": "code",
      "source": [
        "#inverse -> np.linalg.inv(a)\n",
        "q = np.array([[1,2],[3,4]])\n",
        "np.linalg.inv(q)"
      ],
      "metadata": {
        "colab": {
          "base_uri": "https://localhost:8080/"
        },
        "id": "vwqwzbKR3dgR",
        "outputId": "a534724b-0de6-4ed7-d01c-360270308dd2"
      },
      "execution_count": 21,
      "outputs": [
        {
          "output_type": "execute_result",
          "data": {
            "text/plain": [
              "array([[-2. ,  1. ],\n",
              "       [ 1.5, -0.5]])"
            ]
          },
          "metadata": {},
          "execution_count": 21
        }
      ]
    },
    {
      "cell_type": "code",
      "source": [
        "#power of matrix -> np.linalg.matrix_power(q,num)\n",
        "np.linalg.matrix_power(q,2)"
      ],
      "metadata": {
        "colab": {
          "base_uri": "https://localhost:8080/"
        },
        "id": "rnbQljAY3fJP",
        "outputId": "7ba7fbd6-b499-4256-99b9-3b40a9a410fc"
      },
      "execution_count": 22,
      "outputs": [
        {
          "output_type": "execute_result",
          "data": {
            "text/plain": [
              "array([[ 7, 10],\n",
              "       [15, 22]])"
            ]
          },
          "metadata": {},
          "execution_count": 22
        }
      ]
    },
    {
      "cell_type": "code",
      "source": [
        "#det -> np.linalg.det(a)\n",
        "np.linalg.det(q)\n",
        "round(np.linalg.det(q))"
      ],
      "metadata": {
        "colab": {
          "base_uri": "https://localhost:8080/"
        },
        "id": "nslC8lfs3g62",
        "outputId": "9e15d292-9b36-43d5-afb1-43a39e80e19d"
      },
      "execution_count": 23,
      "outputs": [
        {
          "output_type": "execute_result",
          "data": {
            "text/plain": [
              "-2"
            ]
          },
          "metadata": {},
          "execution_count": 23
        }
      ]
    },
    {
      "cell_type": "code",
      "source": [],
      "metadata": {
        "id": "p-VdS0Vl3jhF"
      },
      "execution_count": null,
      "outputs": []
    }
  ]
}